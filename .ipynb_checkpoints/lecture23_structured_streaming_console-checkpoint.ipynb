{
 "cells": [
  {
   "cell_type": "code",
   "execution_count": null,
   "id": "d458b63d-1e0f-4422-931c-0a354fad00bd",
   "metadata": {},
   "outputs": [],
   "source": [
    "from pyspark.sql import SparkSession\n",
    "from pyspark.sql import functions as f\n",
    "\n",
    "spark = SparkSession \\\n",
    "    .builder \\\n",
    "    .appName(\"StructuredNetworkWordCount\") \\\n",
    "    .getOrCreate()\n",
    "\n",
    "# Create DataFrame representing the stream of input lines from connection to localhost:9999\n",
    "lines = spark \\\n",
    "    .readStream \\\n",
    "    .format(\"socket\") \\\n",
    "    .option(\"host\", \"localhost\") \\\n",
    "    .option(\"port\", 9999) \\\n",
    "    .load()\n",
    "\n",
    "# Split the lines into words\n",
    "words = lines.select(\n",
    "           f.explode(\n",
    "               f.split(lines.value, \" \")\n",
    "           ).alias(\"word\")\n",
    "        )\n",
    "\n",
    "# Generate running word count\n",
    "wordCounts = words.groupBy(\"word\").count()\n",
    "\n",
    "# Start running the query that prints the running counts to the console\n",
    "# outputMode(\"complete\")는 전체 집계 결과를 출력하도록 설정합니다.\n",
    "# format(\"console\")은 데이터를 콘솔에 출력하도록 설정합니다.\n",
    "query = wordCounts \\\n",
    "        .writeStream \\\n",
    "        .outputMode(\"complete\") \\\n",
    "        .format(\"console\") \\\n",
    "        .start()\n",
    "\n",
    "query.awaitTermination()"
   ]
  },
  {
   "cell_type": "code",
   "execution_count": null,
   "id": "4f59c552-b952-45b7-99ec-92a0e5bed653",
   "metadata": {},
   "outputs": [],
   "source": [
    "# append:\n",
    "# 설명: 새로운 행만 추가합니다.\n",
    "# 사용 시기: 데이터가 항상 증가하는 경우, 예를 들어 로그 데이터나 센서 데이터 스트림.\n",
    "# 제약 조건: 집계 쿼리에서 사용하기 어렵습니다.\n",
    "query = wordCounts.writeStream.outputMode(\"append\").format(\"console\").start()\n",
    "\n",
    "# complete:\n",
    "# 설명: 전체 결과 테이블을 매번 출력합니다.\n",
    "# 사용 시기: 집계 결과 전체를 매번 다시 출력해야 할 때, 예를 들어, 전체 단어 빈도 집계.\n",
    "# 제약 조건: 전체 결과를 출력하기 때문에 대용량 데이터셋에서는 비효율적일 수 있습니다.\n",
    "query = wordCounts.writeStream.outputMode(\"complete\").format(\"console\").start()\n",
    "\n",
    "# update:\n",
    "# 설명: 업데이트된 결과만 출력합니다.\n",
    "# 사용 시기: 집계 결과가 자주 업데이트되는 경우, 예를 들어, 카운트가 변경된 단어만 출력.\n",
    "# 제약 조건: 모든 쿼리에서 사용할 수 있는 것은 아닙니다. 특히, 키가 변경되지 않는 집계에서 유용합니다.\n",
    "query = wordCounts.writeStream.outputMode(\"update\").format(\"console\").start()\n",
    "\n"
   ]
  },
  {
   "cell_type": "code",
   "execution_count": null,
   "id": "8cbbadef-7509-4dd8-b6f0-89513ad44cf9",
   "metadata": {},
   "outputs": [],
   "source": [
    "# format은 스트리밍 데이터를 어디에, 그리고 어떻게 저장할지 설정합니다. 여러 가지 형식이 있습니다:\n",
    "\n",
    "# console:\n",
    "# 설명: 스트리밍 데이터를 콘솔에 출력합니다.\n",
    "# 사용 시기: 디버깅 및 테스트 목적으로 사용.\n",
    "# 제약 조건: 대규모 데이터에 적합하지 않음.\n",
    "query = wordCounts.writeStream.format(\"console\").start()\n",
    "\n",
    "# memory:\n",
    "# 설명: 스트리밍 데이터를 인메모리 테이블에 저장합니다.\n",
    "# 사용 시기: 쿼리 결과를 빠르게 확인하고 싶을 때.\n",
    "# 제약 조건: 작은 데이터셋에 적합.\n",
    "query = wordCounts.writeStream.format(\"memory\").queryName(\"tableName\").start()\n",
    "\n",
    "# parquet:\n",
    "# 설명: 스트리밍 데이터를 Parquet 파일 형식으로 저장합니다.\n",
    "# 사용 시기: 대규모 데이터 저장 및 후속 분석을 위해.\n",
    "# 제약 조건: HDFS 또는 다른 파일 시스템 경로 필요.\n",
    "query = wordCounts.writeStream.format(\"parquet\").option(\"path\", \"/path/to/output\").option(\"checkpointLocation\", \"/path/to/checkpoint\").start()\n",
    "\n",
    "# csv:\n",
    "# 설명: 스트리밍 데이터를 CSV 파일 형식으로 저장합니다.\n",
    "# 사용 시기: 데이터 공유 및 이식성을 위해.\n",
    "# 제약 조건: HDFS 또는 다른 파일 시스템 경로 필요.\n",
    "query = wordCounts.writeStream.format(\"csv\").option(\"path\", \"/path/to/output\").option(\"checkpointLocation\", \"/path/to/checkpoint\").start()\n",
    "\n",
    "# json:\n",
    "# 설명: 스트리밍 데이터를 JSON 파일 형식으로 저장합니다.\n",
    "# 사용 시기: JSON 형식이 필요한 경우.\n",
    "# 제약 조건: HDFS 또는 다른 파일 시스템 경로 필요.\n",
    "query = wordCounts.writeStream.format(\"json\").option(\"path\", \"/path/to/output\").option(\"checkpointLocation\", \"/path/to/checkpoint\").start()\n",
    "\n",
    "# kafka:\n",
    "# 설명: 스트리밍 데이터를 Kafka 토픽으로 전송합니다.\n",
    "# 사용 시기: Kafka를 사용한 데이터 파이프라인 구축 시.\n",
    "# 제약 조건: Kafka 브로커 설정 필요.\n",
    "query = wordCounts.writeStream.format(\"kafka\").option(\"kafka.bootstrap.servers\", \"localhost:9092\").option(\"topic\", \"topicName\").start()"
   ]
  }
 ],
 "metadata": {
  "kernelspec": {
   "display_name": "Python 3 (ipykernel)",
   "language": "python",
   "name": "python3"
  },
  "language_info": {
   "codemirror_mode": {
    "name": "ipython",
    "version": 3
   },
   "file_extension": ".py",
   "mimetype": "text/x-python",
   "name": "python",
   "nbconvert_exporter": "python",
   "pygments_lexer": "ipython3",
   "version": "3.11.6"
  },
  "vscode": {
   "interpreter": {
    "hash": "aee8b7b246df8f9039afb4144a1f6fd8d2ca17a180786b69acc140d282b71a49"
   }
  }
 },
 "nbformat": 4,
 "nbformat_minor": 5
}
