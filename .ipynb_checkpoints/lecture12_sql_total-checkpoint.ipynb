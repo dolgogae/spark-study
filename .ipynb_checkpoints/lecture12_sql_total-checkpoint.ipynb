{
 "cells": [
  {
   "cell_type": "markdown",
   "id": "e3e6a269-2ad7-441a-b4db-d7b340d62943",
   "metadata": {},
   "source": [
    "### 각 부분의 역할\n",
    ".agg(...):\n",
    "DataFrame에 대해 집계 연산을 수행하는 메서드입니다.\n",
    "여러 열에 대해 집계 연산을 수행할 수 있습니다.\n",
    "\n",
    "f.round(...):\n",
    "주어진 열 값을 반올림하는 함수입니다.\n",
    "첫 번째 인수는 반올림할 값이고, 두 번째 인수는 반올림할 소수점 자릿수입니다.\n",
    "\n",
    "f.sum(\"price\"):\n",
    "price 열의 합계를 계산하는 집계 함수입니다.\n",
    "이 함수는 price 열의 모든 값을 더합니다.\n",
    "\n",
    ".alias(\"cost\"):\n",
    "결과 열의 이름을 지정하는 메서드입니다.\n",
    "여기서는 집계 결과를 cost라는 이름으로 지정합니다."
   ]
  },
  {
   "cell_type": "code",
   "execution_count": 9,
   "id": "39ebc1b5-eb60-4876-ace9-dd81d70f0981",
   "metadata": {},
   "outputs": [
    {
     "name": "stdout",
     "output_type": "stream",
     "text": [
      "+-----------------+----+\n",
      "|    customer_name|cost|\n",
      "+-----------------+----+\n",
      "|     Damion Wolfe|1397|\n",
      "| Benedict Frazier| 998|\n",
      "|  Giuseppe Miller| 997|\n",
      "|    Garret Martin| 997|\n",
      "|Erminia Robertson| 997|\n",
      "|     Milan Gibson| 996|\n",
      "|     Rudy Wheeler| 994|\n",
      "|   Kathey Baldwin| 994|\n",
      "|   Williemae Bell| 992|\n",
      "|Gearldine Aguilar| 988|\n",
      "|      Jewel Parks| 987|\n",
      "|     Hyman Castro| 985|\n",
      "|    Noriko Medina| 984|\n",
      "|     Garfield Day| 982|\n",
      "|      Dacia Adams| 981|\n",
      "|     Taisha Henry| 980|\n",
      "|    Branda Valdez| 978|\n",
      "|     Fumiko Weber| 976|\n",
      "|Geraldo Alexander| 975|\n",
      "|      Walker Pope| 975|\n",
      "+-----------------+----+\n",
      "only showing top 20 rows\n",
      "\n"
     ]
    }
   ],
   "source": [
    "from pyspark.sql import (\n",
    "    functions as f,\n",
    "    SparkSession,\n",
    "    types as t\n",
    ")\n",
    "\n",
    "spark = SparkSession.builder.appName(\"df_total\").getOrCreate()\n",
    "table_schema = t.StructType([\n",
    "    t.StructField(\"customer_name\", t.StringType(), True),\n",
    "    t.StructField(\"product_id\", t.IntegerType(), True),\n",
    "    t.StructField(\"price\", t.IntegerType(), True)])\n",
    "\n",
    "csv_file_path = \"file:///home/jovyan/work/sample/product.csv\"\n",
    "df = spark.read.schema(table_schema).csv(csv_file_path)\n",
    "\n",
    "customer_spent = df.groupBy(\"customer_name\")\\\n",
    "                    .agg(\n",
    "                        f.round(\n",
    "                            f.sum(\"price\"),\n",
    "                            2\n",
    "                        ).alias(\"cost\"))\n",
    "                    \n",
    "# customer_spent.show()\n",
    "\n",
    "sorted_customer_spent = customer_spent.orderBy(f.col(\"cost\").desc())\n",
    "\n",
    "sorted_customer_spent.show()\n",
    "                                            "
   ]
  }
 ],
 "metadata": {
  "kernelspec": {
   "display_name": "Python 3 (ipykernel)",
   "language": "python",
   "name": "python3"
  },
  "language_info": {
   "codemirror_mode": {
    "name": "ipython",
    "version": 3
   },
   "file_extension": ".py",
   "mimetype": "text/x-python",
   "name": "python",
   "nbconvert_exporter": "python",
   "pygments_lexer": "ipython3",
   "version": "3.11.6"
  },
  "vscode": {
   "interpreter": {
    "hash": "aee8b7b246df8f9039afb4144a1f6fd8d2ca17a180786b69acc140d282b71a49"
   }
  }
 },
 "nbformat": 4,
 "nbformat_minor": 5
}
