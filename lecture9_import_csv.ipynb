{
 "cells": [
  {
   "cell_type": "code",
   "execution_count": 1,
   "id": "d0a9885d-0e99-4e34-9147-4ce9af39e10a",
   "metadata": {},
   "outputs": [
    {
     "name": "stdout",
     "output_type": "stream",
     "text": [
      "+-----------------+---+\n",
      "|             name|age|\n",
      "+-----------------+---+\n",
      "|    Neville Hardy| 56|\n",
      "|      Dacia Cohen| 74|\n",
      "|    Kathey Daniel| 10|\n",
      "|     Mallie Welch| 12|\n",
      "|     Katia Bryant| 14|\n",
      "|Laurice Robertson| 53|\n",
      "|     Minh Barrett| 27|\n",
      "|   Latashia Perez| 52|\n",
      "|      Elvina Ross| 68|\n",
      "|  Augustus Snyder| 20|\n",
      "|        Elois Cox| 65|\n",
      "|    Jolanda Dixon| 14|\n",
      "|      Rutha Young| 10|\n",
      "| Waltraud Holland| 10|\n",
      "|   Colton Flowers| 77|\n",
      "|     Meri Hawkins| 43|\n",
      "|     Theola Mason| 71|\n",
      "|  Antonia Pearson| 25|\n",
      "|   Delicia Murray| 41|\n",
      "|    Cicely Harvey| 37|\n",
      "+-----------------+---+\n",
      "only showing top 20 rows\n",
      "\n"
     ]
    }
   ],
   "source": [
    "from pyspark.sql import SparkSession\n",
    "from pyspark.sql.functions import (\n",
    "    avg,\n",
    "    col,\n",
    "    round as rnd\n",
    ")\n",
    "\n",
    "spark = SparkSession.builder.appName(\"sql_import_csv\").getOrCreate()\n",
    "csv_file_path = \"file:///home/jovyan/work/sample/age.csv\"\n",
    "\n",
    "# header option: either csv has header or not(default: header = false)\n",
    "# inferSchema: either all columns are str or not\n",
    "data = spark.read.option(\"header\", \"true\")\\\n",
    "            .option(\"inferSchema\", \"true\")\\\n",
    "            .csv(csv_file_path)\n",
    "# data = spark.read.option(\"header\", \"true\")\\\n",
    "#             .csv(csv_file_path)\n",
    "\n",
    "# # show schema\n",
    "# data.printSchema()\n",
    "\n",
    "# # show column name with data\n",
    "# data.select(\"name\", \"age\").show()\n",
    "\n",
    "# filter the data for age of 20 above\n",
    "data.filter(data.age > 20).show()\n",
    "\n",
    "# # group by age and aggregates for count\n",
    "# data.groupBy(\"age\").count().show()\n",
    "\n",
    "# # custom arithmetic\n",
    "# data.select(data.name, data.age, data.age - 10).show()\n",
    "\n",
    "# # column alias\n",
    "# data.select(data.name, col(\"age\").alias(\"age1\")).show()\n",
    "\n",
    "# # average\n",
    "# data.select(data.name, data.age, data.country)\\\n",
    "#         .groupBy(\"country\")\\\n",
    "#         .avg(\"age\").show()\n",
    "\n",
    "# # average & sort\n",
    "# data.select(data.name, data.age, data.country)\\\n",
    "#         .groupBy(\"country\")\\\n",
    "#         .avg(\"age\").sort(\"avg(age)\").show()\n",
    "\n",
    "# # average & round\n",
    "# data.select(data.name, data.age, data.country)\\\n",
    "#         .groupBy(\"country\")\\\n",
    "#         .agg(rnd(avg(\"age\"), 2).alias(\"avg_age\")).show()"
   ]
  },
  {
   "cell_type": "code",
   "execution_count": null,
   "id": "33702b81-f258-4139-bcf4-870ff50956f1",
   "metadata": {},
   "outputs": [],
   "source": []
  }
 ],
 "metadata": {
  "kernelspec": {
   "display_name": "Python 3 (ipykernel)",
   "language": "python",
   "name": "python3"
  },
  "language_info": {
   "codemirror_mode": {
    "name": "ipython",
    "version": 3
   },
   "file_extension": ".py",
   "mimetype": "text/x-python",
   "name": "python",
   "nbconvert_exporter": "python",
   "pygments_lexer": "ipython3",
   "version": "3.11.6"
  },
  "vscode": {
   "interpreter": {
    "hash": "aee8b7b246df8f9039afb4144a1f6fd8d2ca17a180786b69acc140d282b71a49"
   }
  }
 },
 "nbformat": 4,
 "nbformat_minor": 5
}
