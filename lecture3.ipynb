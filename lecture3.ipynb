{
 "cells": [
  {
   "cell_type": "code",
   "execution_count": 9,
   "id": "6aa634e3-7e26-4a54-bd21-973a30c7ad9a",
   "metadata": {},
   "outputs": [
    {
     "name": "stdout",
     "output_type": "stream",
     "text": [
      "PythonRDD[17] at RDD at PythonRDD.scala:53\n",
      "defaultdict(<class 'int'>, {'50': 1, '60': 1, '30': 1, '100': 1})\n",
      "50: 1\n",
      "60: 1\n",
      "30: 1\n",
      "100: 1\n"
     ]
    }
   ],
   "source": [
    "import collections\n",
    "import pyspark\n",
    "\n",
    "test_file = \"file:///home/jovyan/work/sample/grade.txt\"\n",
    "sc = pyspark.SparkContext.getOrCreate()\n",
    "\n",
    "text_file = sc.textFile(test_file)\n",
    "\n",
    "grade = text_file.map(lambda line: line.split(\" \")[1])\n",
    "print(grade)\n",
    "\n",
    "grade_count = grade.countByValue()\n",
    "print(grade_count)\n",
    "\n",
    "for grade, count in sorted(grade_count.items(), key=lambda item: item[1], reverse=True):\n",
    "    print(f\"{grade}: {count}\")"
   ]
  },
  {
   "cell_type": "code",
   "execution_count": null,
   "id": "efa6ccd5-a9b2-4246-8be4-02f66a8a3dc9",
   "metadata": {},
   "outputs": [],
   "source": []
  }
 ],
 "metadata": {
  "kernelspec": {
   "display_name": "Python 3 (ipykernel)",
   "language": "python",
   "name": "python3"
  },
  "language_info": {
   "codemirror_mode": {
    "name": "ipython",
    "version": 3
   },
   "file_extension": ".py",
   "mimetype": "text/x-python",
   "name": "python",
   "nbconvert_exporter": "python",
   "pygments_lexer": "ipython3",
   "version": "3.11.6"
  }
 },
 "nbformat": 4,
 "nbformat_minor": 5
}
